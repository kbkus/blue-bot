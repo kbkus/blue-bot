{
 "cells": [
  {
   "cell_type": "code",
   "execution_count": 8,
   "metadata": {},
   "outputs": [],
   "source": [
    "# Install dependencies\n",
    "import itertools\n",
    "import random\n",
    "from pprint import pprint\n",
    "\n",
    "import pandas as pd\n",
    "\n",
    "from definitions import COLORS\n",
    "from player import Player\n",
    "from table import Table\n",
    "\n",
    "# Display all rows in dataframes\n",
    "pd.set_option('display.max_rows', None)\n"
   ]
  },
  {
   "cell_type": "code",
   "execution_count": 10,
   "metadata": {},
   "outputs": [
    {
     "name": "stdout",
     "output_type": "stream",
     "text": [
      "Current table plates:\n",
      "{'plate_1': {'black': 2, 'blue': 0, 'green': 2, 'red': 0, 'yellow': 0},\n",
      " 'plate_2': {'black': 1, 'blue': 1, 'green': 1, 'red': 0, 'yellow': 1},\n",
      " 'plate_3': {'black': 2, 'blue': 1, 'green': 1, 'red': 0, 'yellow': 0},\n",
      " 'plate_4': {'black': 1, 'blue': 1, 'green': 1, 'red': 0, 'yellow': 1},\n",
      " 'plate_5': {'black': 1, 'blue': 0, 'green': 1, 'red': 0, 'yellow': 2},\n",
      " 'plate_leftover': {'black': 0, 'blue': 0, 'green': 0, 'red': 0, 'yellow': 0}}\n",
      "\n",
      "[(3, 8), (3, 18), (3, 23), (8, 8), (8, 18), (8, 23), (13, 8), (13, 18), (13, 23), (18, 8), (18, 18), (18, 23), (23, 8), (23, 18), (23, 23), (28, 8), (28, 18), (28, 23), (2, 7), (2, 12), (2, 17), (7, 7), (7, 12), (7, 17), (12, 7), (12, 12), (12, 17), (17, 7), (17, 12), (17, 17), (22, 7), (22, 12), (22, 17), (27, 7), (27, 12), (27, 17), (1, 1), (1, 6), (1, 11), (1, 16), (1, 21), (6, 1), (6, 6), (6, 11), (6, 16), (6, 21), (11, 1), (11, 6), (11, 11), (11, 16), (11, 21), (16, 1), (16, 6), (16, 11), (16, 16), (16, 21), (21, 1), (21, 6), (21, 11), (21, 16), (21, 21), (26, 1), (26, 6), (26, 11), (26, 16), (26, 21), (4, 4), (4, 9), (4, 14), (4, 19), (4, 24), (9, 4), (9, 9), (9, 14), (9, 19), (9, 24), (14, 4), (14, 9), (14, 14), (14, 19), (14, 24), (19, 4), (19, 9), (19, 14), (19, 19), (19, 24), (24, 4), (24, 9), (24, 14), (24, 19), (24, 24), (29, 4), (29, 9), (29, 14), (29, 19), (29, 24)]\n"
     ]
    },
    {
     "data": {
      "text/plain": [
       "(23, 23)"
      ]
     },
     "execution_count": 10,
     "metadata": {},
     "output_type": "execute_result"
    }
   ],
   "source": [
    "# Set up game with 2 players\n",
    "player_1 = Player(\"Kaci\")\n",
    "player_2 = Player(\"Avi\")\n",
    "\n",
    "# Create table with 5 plates, and assign the players\n",
    "table = Table(n_plates=5, players=[player_1, player_2])\n",
    "\n",
    "# Fill table\n",
    "table.fill_plates()\n",
    "print(\"Current table plates:\")\n",
    "pprint(table.plates)\n",
    "print()\n",
    "\n",
    "# Playable options of plates on table\n",
    "table_options = table.playable_options\n",
    "table_options = table_options.where(table_options[\"playable_tiles\"] != 0).dropna()\n",
    "\n",
    "\n",
    "# Playable options of player factories\n",
    "player_options = player_1.factory.playable_options\n",
    "player_options = player_options.where(player_options[\"playable_spaces\"] != 0).dropna()\n",
    "\n",
    "table.game_state()\n",
    "\n",
    "# Get all possible options\n",
    "all_options = []\n",
    "for color in COLORS:\n",
    "    player_condition = (player_options[\"color\"] == color) & (player_options[\"playable_spaces\"] > 0)\n",
    "    table_condition = (table_options[\"color\"] == color) & (table_options[\"playable_tiles\"] > 0)\n",
    "    color_options = itertools.product(player_options.loc[player_condition].index.values, table_options.loc[table_condition].index.values)\n",
    "    all_options.extend(list(color_options))\n",
    "\n",
    "print(all_options)\n",
    "\n",
    "# Select one option\n",
    "random.choice(all_options)"
   ]
  },
  {
   "cell_type": "code",
   "execution_count": 3,
   "metadata": {},
   "outputs": [
    {
     "data": {
      "text/plain": [
       "{'row_1': {'red': 1, 'green': 1, 'blue': 1, 'yellow': 1, 'black': 1},\n",
       " 'row_2': {'red': 2, 'green': 2, 'blue': 2, 'yellow': 2, 'black': 2},\n",
       " 'row_3': {'red': 3, 'green': 3, 'blue': 3, 'yellow': 3, 'black': 3},\n",
       " 'row_4': {'red': 4, 'green': 4, 'blue': 4, 'yellow': 4, 'black': 4},\n",
       " 'row_5': {'red': 5, 'green': 5, 'blue': 5, 'yellow': 5, 'black': 5},\n",
       " 'row_minus': {'red': 20, 'green': 20, 'blue': 20, 'yellow': 20, 'black': 20}}"
      ]
     },
     "execution_count": 3,
     "metadata": {},
     "output_type": "execute_result"
    }
   ],
   "source": [
    "player_1.factory.rows"
   ]
  }
 ],
 "metadata": {
  "interpreter": {
   "hash": "41fe4ef4446a85cc2031ae5fc954a2d308415c34f03d0f98ee0e48e30a195475"
  },
  "kernelspec": {
   "display_name": "Python 3.8.3 64-bit ('automin_env': virtualenv)",
   "language": "python",
   "name": "python3"
  },
  "language_info": {
   "codemirror_mode": {
    "name": "ipython",
    "version": 3
   },
   "file_extension": ".py",
   "mimetype": "text/x-python",
   "name": "python",
   "nbconvert_exporter": "python",
   "pygments_lexer": "ipython3",
   "version": "3.8.3"
  },
  "orig_nbformat": 4
 },
 "nbformat": 4,
 "nbformat_minor": 2
}

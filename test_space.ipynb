{
 "cells": [
  {
   "cell_type": "code",
   "execution_count": 3,
   "metadata": {},
   "outputs": [],
   "source": [
    "# Install dependencies\n",
    "import itertools\n",
    "import random\n",
    "from pprint import pprint\n",
    "\n",
    "import pandas as pd\n",
    "\n",
    "from definitions import COLORS\n",
    "from board_elements.player import Player\n",
    "from board_elements.table import Table\n",
    "\n",
    "# Display all rows in dataframes\n",
    "pd.set_option('display.max_rows', None)\n"
   ]
  },
  {
   "cell_type": "code",
   "execution_count": 4,
   "metadata": {},
   "outputs": [
    {
     "name": "stdout",
     "output_type": "stream",
     "text": [
      "Table options\n",
      "     color variable  playable_tiles\n",
      "2     blue  plate_0             1.0\n",
      "3   yellow  plate_0             1.0\n",
      "4    black  plate_0             2.0\n",
      "5      red  plate_1             1.0\n",
      "6    green  plate_1             1.0\n",
      "7     blue  plate_1             1.0\n",
      "8   yellow  plate_1             1.0\n",
      "11   green  plate_2             1.0\n",
      "12    blue  plate_2             2.0\n",
      "14   black  plate_2             1.0\n",
      "15     red  plate_3             1.0\n",
      "17    blue  plate_3             1.0\n",
      "18  yellow  plate_3             2.0\n",
      "21   green  plate_4             1.0\n",
      "23  yellow  plate_4             2.0\n",
      "24   black  plate_4             1.0\n",
      "[(0, 5), (0, 15), (5, 5), (5, 15), (10, 5), (10, 15), (15, 5), (15, 15), (20, 5), (20, 15), (25, 5), (25, 15), (3, 3), (3, 8), (3, 18), (3, 23), (8, 3), (8, 8), (8, 18), (8, 23), (13, 3), (13, 8), (13, 18), (13, 23), (18, 3), (18, 8), (18, 18), (18, 23), (23, 3), (23, 8), (23, 18), (23, 23), (28, 3), (28, 8), (28, 18), (28, 23), (2, 2), (2, 7), (2, 12), (2, 17), (7, 2), (7, 7), (7, 12), (7, 17), (12, 2), (12, 7), (12, 12), (12, 17), (17, 2), (17, 7), (17, 12), (17, 17), (22, 2), (22, 7), (22, 12), (22, 17), (27, 2), (27, 7), (27, 12), (27, 17), (1, 6), (1, 11), (1, 21), (6, 6), (6, 11), (6, 21), (11, 6), (11, 11), (11, 21), (16, 6), (16, 11), (16, 21), (21, 6), (21, 11), (21, 21), (26, 6), (26, 11), (26, 21), (4, 4), (4, 14), (4, 24), (9, 4), (9, 14), (9, 24), (14, 4), (14, 14), (14, 24), (19, 4), (19, 14), (19, 24), (24, 4), (24, 14), (24, 24), (29, 4), (29, 14), (29, 24)]\n"
     ]
    },
    {
     "data": {
      "text/plain": [
       "(2, 12)"
      ]
     },
     "execution_count": 4,
     "metadata": {},
     "output_type": "execute_result"
    }
   ],
   "source": [
    "# Set up game with 2 players\n",
    "player_1 = Player(\"Kaci\")\n",
    "player_2 = Player(\"Avi\")\n",
    "\n",
    "# Create table with 5 plates, and assign the players\n",
    "table = Table(n_plates=5, players=[player_1, player_2])\n",
    "\n",
    "# Fill table\n",
    "table.fill_plates()\n",
    "# print(\"Current table plates:\")\n",
    "# for i, plate in enumerate(table.plates):\n",
    "#     print(\"Plate:\", i)\n",
    "#     for j, tile in enumerate(plate.tiles):\n",
    "#         print(f\"Tile {j}:\", tile.color)\n",
    "# print()\n",
    "\n",
    "# Playable options of plates on table\n",
    "table_options = table.playable_options\n",
    "table_options = table_options.where(table_options[\"playable_tiles\"] != 0).dropna()\n",
    "print(\"Table options\")\n",
    "print(table_options)\n",
    "\n",
    "\n",
    "# Playable options of player factories\n",
    "player_options = player_1.factory.playable_options\n",
    "player_options = player_options.where(player_options[\"playable_spaces\"] != 0).dropna()\n",
    "\n",
    "table.game_state()\n",
    "\n",
    "# Get all possible options\n",
    "all_options = []\n",
    "for color in COLORS:\n",
    "    player_condition = (player_options[\"color\"] == color) & (player_options[\"playable_spaces\"] > 0)\n",
    "    table_condition = (table_options[\"color\"] == color) & (table_options[\"playable_tiles\"] > 0)\n",
    "    color_options = itertools.product(player_options.loc[player_condition].index.values, table_options.loc[table_condition].index.values)\n",
    "    all_options.extend(list(color_options))\n",
    "\n",
    "print(all_options)\n",
    "\n",
    "# Select one option\n",
    "random.choice(all_options)"
   ]
  },
  {
   "cell_type": "code",
   "execution_count": null,
   "metadata": {},
   "outputs": [],
   "source": []
  }
 ],
 "metadata": {
  "interpreter": {
   "hash": "41fe4ef4446a85cc2031ae5fc954a2d308415c34f03d0f98ee0e48e30a195475"
  },
  "kernelspec": {
   "display_name": "Python 3.8.3 64-bit ('automin_env': virtualenv)",
   "language": "python",
   "name": "python3"
  },
  "language_info": {
   "codemirror_mode": {
    "name": "ipython",
    "version": 3
   },
   "file_extension": ".py",
   "mimetype": "text/x-python",
   "name": "python",
   "nbconvert_exporter": "python",
   "pygments_lexer": "ipython3",
   "version": "3.8.3"
  },
  "orig_nbformat": 4
 },
 "nbformat": 4,
 "nbformat_minor": 2
}
